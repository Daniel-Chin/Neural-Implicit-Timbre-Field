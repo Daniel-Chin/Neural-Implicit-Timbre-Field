{
 "cells": [
  {
   "cell_type": "code",
   "execution_count": null,
   "metadata": {},
   "outputs": [],
   "source": [
    "from typing import *\n",
    "import os\n",
    "\n",
    "import librosa\n",
    "import numpy as np\n",
    "from numpy.fft import rfft\n",
    "from numpy import pi\n",
    "from matplotlib import pyplot as plt\n",
    "from IPython.display import Audio\n",
    "import cmath\n",
    "import scipy\n",
    "from scipy.signal import stft\n",
    "import torch\n",
    "from torch import nn\n",
    "import torch.nn.functional as F\n",
    "\n",
    "from cache_no_hash import cache\n",
    "from blindDescend import blindDescend\n",
    "from yin import yin\n",
    "from harmonicSynth import HarmonicSynth, Harmonic\n",
    "\n",
    "TWO_PI = np.pi * 2"
   ]
  },
  {
   "cell_type": "code",
   "execution_count": null,
   "metadata": {},
   "outputs": [],
   "source": [
    "os.chdir('..')\n",
    "from shared import *\n",
    "from lobe import getLobe\n",
    "from manual_fc import ManualFC\n",
    "os.chdir('playground')"
   ]
  },
  {
   "cell_type": "code",
   "execution_count": null,
   "metadata": {},
   "outputs": [],
   "source": [
    "def sino(freq, length):\n",
    "    return np.sin(np.arange(length) * freq * TWO_PI / SR)\n",
    "\n",
    "def playHard(data):\n",
    "    return Audio(data, rate = SR)\n",
    "def play(data, soft = .1):\n",
    "    t = np.concatenate([data, [1]])\n",
    "    length = round(soft * SR)\n",
    "    t[:length ] = np.multiply(t[:length ], np.linspace(0, 1, length))\n",
    "    t[-length:] = np.multiply(t[-length:], np.linspace(1, 0, length))\n",
    "    return playHard(t)\n",
    "\n",
    "def findPeaks(energy):\n",
    "    slope = np.sign(energy[1:] - energy[:-1])\n",
    "    extrema = slope[1:] - slope[:-1]\n",
    "    return np.argpartition(\n",
    "        (extrema == -2) * energy[1:-1], - N_HARMONICS,\n",
    "    )[- N_HARMONICS:] + 1\n",
    "\n",
    "def sft(signal, freq_bin):\n",
    "    # Slow Fourier Transform\n",
    "    return np.abs(np.sum(signal * np.exp(IMAGINARY_LADDER * freq_bin))) / PAGE_LEN\n",
    "\n",
    "def refineGuess(guess, signal):\n",
    "    def loss(x):\n",
    "        if x < 0:\n",
    "            return 0\n",
    "        return - sft(signal, x)\n",
    "    freq_bin, loss = blindDescend(loss, .01, .4, guess)\n",
    "    return freq_bin * SR / PAGE_LEN, - loss\n",
    "\n",
    "def widePlot(h = 3, w = 12):\n",
    "    plt.gcf().set_size_inches(w, h)\n",
    "    \n",
    "def spectrum(signal, do_wide = True, trim = 130):\n",
    "    energy = np.abs(rfft(signal * HANN))\n",
    "    X = np.linspace(0, SR / 2, len(energy))\n",
    "    plt.plot(\n",
    "        X     [:trim], \n",
    "        energy[:trim], \n",
    "    )\n",
    "    plt.xlabel('freq (Hz)')\n",
    "    if do_wide:\n",
    "        widePlot()\n",
    "\n",
    "def spectrogram(signal, **kw):\n",
    "    f, t, Zxx = stft(signal, fs=SR, **kw)\n",
    "    plt.pcolormesh(t, f, np.abs(Zxx))\n",
    "\n",
    "def concatSynth(synth, harmonics, n):\n",
    "    buffer = []\n",
    "    for i in range(n):\n",
    "        synth.eat(harmonics)\n",
    "        buffer.append(synth.mix())\n",
    "    return np.concatenate(buffer)\n",
    "\n",
    "def pitch2freq(pitch):\n",
    "    return np.exp((pitch + 36.37631656229591) * 0.0577622650466621)\n",
    "\n",
    "def freq2pitch(f):\n",
    "    return np.log(f) * 17.312340490667562 - 36.37631656229591\n",
    "\n",
    "def pagesOf(signal):\n",
    "    for i in range(0, signal.size - PAGE_LEN + 1, PAGE_LEN):\n",
    "        yield signal[i : i + PAGE_LEN]\n",
    "\n",
    "def plotUnstretchedPartials(f0, n_partials = 14, color = 'r', alpha = .3):\n",
    "    for i in range(1, n_partials + 1):\n",
    "        freq = f0 * i\n",
    "        plt.axvline(x = freq, color = color, alpha = alpha)\n"
   ]
  },
  {
   "cell_type": "code",
   "execution_count": null,
   "metadata": {},
   "outputs": [],
   "source": [
    "timbre_points = [\n",
    "    (700, .2), \n",
    "    (950, .05), \n",
    "    (2400, .05), \n",
    "    (2800, 0), \n",
    "    (3000, 0), \n",
    "]\n",
    "timbre = ManualFC(\n",
    "    torch.tensor([x[0] for x in timbre_points]), \n",
    "    torch.tensor([x[1] for x in timbre_points]), \n",
    ")\n",
    "X = torch.linspace(0, NYQUIST, 1000)\n",
    "plt.plot(X, timbre(X))"
   ]
  },
  {
   "cell_type": "code",
   "execution_count": null,
   "metadata": {},
   "outputs": [],
   "source": [
    "f0 = 300\n",
    "lobe = getLobe()\n",
    "y = []\n",
    "for i in range(N_HARMONICS):\n",
    "    freq = f0 * (i + 1)\n",
    "    mag = timbre(torch.tensor(freq)).numpy()\n",
    "    y.append(sino(freq, SR) * mag)\n",
    "y_long = np.stack(y).sum(axis=0)\n",
    "y = y_long[:PAGE_LEN]\n",
    "energy = np.abs(rfft(y * HANN)) / (PAGE_LEN / 2)\n",
    "energy = torch.tensor(energy).float()\n",
    "plt.plot(energy)\n",
    "play(y_long)"
   ]
  },
  {
   "cell_type": "code",
   "execution_count": null,
   "metadata": {},
   "outputs": [],
   "source": [
    "freqs = np.linspace(0, NYQUIST, SPECTRUM_SIZE)\n",
    "freq_bin: float = freqs[1]\n",
    "one_over_freq_bin = torch.tensor(1 / freq_bin).float()"
   ]
  },
  {
   "cell_type": "code",
   "execution_count": null,
   "metadata": {},
   "outputs": [],
   "source": [
    "freqCube = torch.arange(0, SPECTRUM_SIZE).float()\n",
    "freqCube = freqCube.unsqueeze(0).repeat(N_HARMONICS, 1)\n",
    "freqCube.shape"
   ]
  },
  {
   "cell_type": "code",
   "execution_count": null,
   "metadata": {},
   "outputs": [],
   "source": [
    "LADDER = torch.arange(0, N_HARMONICS).float().contiguous() + 1"
   ]
  },
  {
   "cell_type": "code",
   "execution_count": null,
   "metadata": {},
   "outputs": [],
   "source": [
    "def forward(f0):\n",
    "    freq = f0 * LADDER\n",
    "    mag = timbre(freq)\n",
    "    x = freqCube - (freq * one_over_freq_bin).unsqueeze(1)\n",
    "    x = lobe(x)\n",
    "    x = x * mag.unsqueeze(1)\n",
    "    return x.sum(dim=0)\n",
    "\n",
    "plt.plot(forward(f0), linewidth=4)\n",
    "plt.plot(energy)"
   ]
  },
  {
   "cell_type": "code",
   "execution_count": null,
   "metadata": {},
   "outputs": [],
   "source": [
    "from itertools import count\n",
    "from time import sleep"
   ]
  },
  {
   "cell_type": "code",
   "execution_count": null,
   "metadata": {},
   "outputs": [],
   "source": [
    "latent_f0 = torch.tensor(160.0, requires_grad=True)\n",
    "optim = torch.optim.Adam([latent_f0], lr=1)\n",
    "for epoch in count():\n",
    "    spec_hat = forward(latent_f0)\n",
    "    loss = F.mse_loss(spec_hat, energy)\n",
    "    optim.zero_grad()\n",
    "    loss.backward()\n",
    "    optim.step()\n",
    "    print(epoch, loss.item(), latent_f0.item())\n",
    "    sleep(.5)"
   ]
  },
  {
   "cell_type": "code",
   "execution_count": null,
   "metadata": {},
   "outputs": [],
   "source": [
    "plt.plot(forward(latent_f0).detach(), linewidth=4)\n",
    "plt.plot(energy)"
   ]
  },
  {
   "attachments": {},
   "cell_type": "markdown",
   "metadata": {},
   "source": [
    "Damn, we need multi-hot octave!"
   ]
  },
  {
   "cell_type": "code",
   "execution_count": null,
   "metadata": {},
   "outputs": [],
   "source": []
  }
 ],
 "metadata": {
  "kernelspec": {
   "display_name": "base",
   "language": "python",
   "name": "python3"
  },
  "language_info": {
   "codemirror_mode": {
    "name": "ipython",
    "version": 3
   },
   "file_extension": ".py",
   "mimetype": "text/x-python",
   "name": "python",
   "nbconvert_exporter": "python",
   "pygments_lexer": "ipython3",
   "version": "3.8.8"
  },
  "vscode": {
   "interpreter": {
    "hash": "ad2bdc8ecc057115af97d19610ffacc2b4e99fae6737bb82f5d7fb13d2f2c186"
   }
  }
 },
 "nbformat": 4,
 "nbformat_minor": 2
}
