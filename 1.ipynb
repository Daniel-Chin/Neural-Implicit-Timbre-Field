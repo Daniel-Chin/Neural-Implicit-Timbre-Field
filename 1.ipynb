{
 "cells": [
  {
   "cell_type": "code",
   "execution_count": null,
   "metadata": {},
   "outputs": [],
   "source": [
    "from a import *"
   ]
  },
  {
   "cell_type": "code",
   "execution_count": null,
   "metadata": {},
   "outputs": [],
   "source": [
    "from IPython.display import Audio"
   ]
  },
  {
   "cell_type": "code",
   "execution_count": null,
   "metadata": {},
   "outputs": [],
   "source": [
    "def playHard(data):\n",
    "    return Audio(data, rate = SR)\n",
    "def play(data, soft = .1):\n",
    "    t = np.concatenate([data, [1]])\n",
    "    length = round(soft * SR)\n",
    "    t[:length ] = np.multiply(t[:length ], np.linspace(0, 1, length))\n",
    "    t[-length:] = np.multiply(t[-length:], np.linspace(1, 0, length))\n",
    "    return playHard(t)\n"
   ]
  },
  {
   "cell_type": "code",
   "execution_count": null,
   "metadata": {},
   "outputs": [],
   "source": [
    "raw = []\n",
    "\n",
    "y, sr = librosa.load('dan.wav', sr=SR)\n",
    "assert sr == SR\n",
    "raw.append(y)\n",
    "\n",
    "# y, sr = librosa.load('yanhe.wav', sr=SR)\n",
    "# assert sr == SR\n",
    "# raw.append(y)\n"
   ]
  },
  {
   "cell_type": "code",
   "execution_count": null,
   "metadata": {},
   "outputs": [],
   "source": [
    "print('stft...')\n",
    "freqs, times, Zxx = stft(\n",
    "    y, fs=SR, nperseg=PAGE_LEN, \n",
    ")\n",
    "spectrogram = np.abs(Zxx)\n"
   ]
  },
  {
   "cell_type": "code",
   "execution_count": null,
   "metadata": {},
   "outputs": [],
   "source": [
    "f0s = []\n",
    "amps = []\n",
    "timbres: List[List[Harmonic]] = []\n",
    "\n",
    "for page_i, (t, page) in tqdm(\n",
    "    [*enumerate(zip(times, pagesOf(y)))], \n",
    "    desc='extract timbre', \n",
    "):\n",
    "    # spectrum = spectrogram[:, page_i]\n",
    "    spectrum = np.abs(rfft(page * HANN)) / PAGE_LEN\n",
    "    f0 = yin(\n",
    "        page, SR, PAGE_LEN, \n",
    "        fmin=pitch2freq(36), \n",
    "        fmax=pitch2freq(84), \n",
    "    )\n",
    "    harmonics_f = np.arange(f0, NYQUIST, f0)\n",
    "    assert harmonics_f.size < N_HARMONICS\n",
    "    harmonics_a_2 = np.zeros((harmonics_f.size, ))\n",
    "    spectrum_2 = np.square(spectrum)\n",
    "    bins_taken = 0\n",
    "    for partial_i, freq in enumerate(harmonics_f):\n",
    "        mid_f_bin = round(freq * PAGE_LEN / SR)\n",
    "        for offset in range(-2, 3):\n",
    "            try:\n",
    "                harmonics_a_2[partial_i] += spectrum_2[\n",
    "                    mid_f_bin + offset\n",
    "                ]\n",
    "            except IndexError:\n",
    "                pass\n",
    "            else:\n",
    "                bins_taken += 1\n",
    "    mean_bin_noise = (spectrum_2.sum() - harmonics_a_2.sum()) / (\n",
    "        len(spectrum_2) - bins_taken\n",
    "    )\n",
    "    harmonics_a_2[harmonics_a_2 < 2 * mean_bin_noise] = 0\n",
    "    harmonics_a = np.sqrt(harmonics_a_2)\n",
    "\n",
    "    harmonics = [\n",
    "        Harmonic(f, a) for (f, a) in zip(\n",
    "            harmonics_f, \n",
    "            harmonics_a, \n",
    "        )\n",
    "    ]\n",
    "    freq = harmonics_f[-1]\n",
    "    for _ in range(len(harmonics), N_HARMONICS):\n",
    "        freq += f0\n",
    "        harmonics.append(Harmonic(freq, 0))\n",
    "    f0s.append(f0)\n",
    "    timbres.append(harmonics)\n",
    "    amps.append(np.sqrt(spectrum_2.sum()))\n"
   ]
  },
  {
   "cell_type": "code",
   "execution_count": null,
   "metadata": {},
   "outputs": [],
   "source": [
    "n_vowel_dims = 2\n"
   ]
  },
  {
   "cell_type": "code",
   "execution_count": null,
   "metadata": {},
   "outputs": [],
   "source": [
    "class MyDataset(Dataset):\n",
    "    def __init__(self) -> None:\n",
    "        super().__init__()\n",
    "\n",
    "        I = []\n",
    "        X = []\n",
    "        Y = []\n",
    "        for page_i, (f0, harmonics, amp) in tqdm([*enumerate(\n",
    "            zip(f0s, timbres, amps), \n",
    "        )], desc='prep data'):\n",
    "            page_X = []\n",
    "            for harmonic in harmonics:\n",
    "                page_X.append(torch.tensor((\n",
    "                    harmonic.freq, f0, amp, \n",
    "                )))\n",
    "                Y.append(harmonic.mag)\n",
    "                I.append(page_i)\n",
    "            page_X = torch.stack(page_X)\n",
    "            # X.append(torch.concat((\n",
    "            #     page_X, vowel_emb.unsqueeze(0).repeat(len(harmonics), 1), \n",
    "            # ), dim=1))\n",
    "            X.append(page_X)\n",
    "        X = torch.concat(X, dim=0).float()\n",
    "        Y = torch.tensor(Y).float()\n",
    "        I = torch.tensor(I, dtype=torch.long)\n",
    "\n",
    "        self.X_mean = X.mean(dim=0)\n",
    "        X = X - self.X_mean\n",
    "        self.X_std = X.std(dim=0)\n",
    "        X = X / self.X_std\n",
    "\n",
    "        self.Y_mean = Y.mean(dim=0)\n",
    "        Y = Y - self.Y_mean\n",
    "        self.Y_std = Y.std(dim=0)\n",
    "        Y = Y / self.Y_std\n",
    "\n",
    "        self.X = X\n",
    "        self.Y = Y\n",
    "        self.I = I\n",
    "    \n",
    "    def transformX(self, x):\n",
    "        return (x - self.X_mean) / self.X_std\n",
    "\n",
    "    def __len__(self):\n",
    "        return self.X.shape[0]\n",
    "\n",
    "    def __getitem__(self, index):\n",
    "        return (\n",
    "            self.X[index, :], \n",
    "            self.Y[index], \n",
    "            self.I[index], \n",
    "        )\n",
    "\n",
    "dataset = MyDataset()"
   ]
  },
  {
   "cell_type": "code",
   "execution_count": null,
   "metadata": {},
   "outputs": [],
   "source": [
    "def Train(nitf: NITF, batch_size):\n",
    "    dataLoader = DataLoader(dataset, batch_size, shuffle=True)\n",
    "\n",
    "    vowel_embs = torch.zeros(\n",
    "        (len(f0s), n_vowel_dims), \n",
    "        requires_grad=True, \n",
    "    )\n",
    "    \n",
    "    optim = torch.optim.Adam([\n",
    "        *nitf.parameters(), \n",
    "        vowel_embs, \n",
    "    ], LR)\n",
    "\n",
    "    while True:\n",
    "        nitf.train()\n",
    "        losses = []\n",
    "        _iter = dataLoader\n",
    "        # _iter = tqdm([*_iter], desc='batches')\n",
    "        for x, y, page_i in _iter:\n",
    "            x_vowel = torch.concat((\n",
    "                x, vowel_embs[page_i], \n",
    "            ), dim=1)\n",
    "            # print('forward...')\n",
    "            y_hat = nitf.forward(x_vowel)\n",
    "            # print('mse...')\n",
    "            loss = F.mse_loss(y_hat[:, 0], y)\n",
    "            # print('zero_grad...')\n",
    "            optim.zero_grad()\n",
    "            # print('backward...')\n",
    "            loss.backward()\n",
    "            # print('step...')\n",
    "            optim.step()\n",
    "            # print('loss...')\n",
    "            losses.append(loss.detach())\n",
    "        yield nitf, vowel_embs, torch.tensor(losses).mean()\n"
   ]
  },
  {
   "cell_type": "code",
   "execution_count": null,
   "metadata": {},
   "outputs": [],
   "source": [
    "trainers = [\n",
    "    (Train(NITF(128, 6, n_vowel_dims), batch_size=2 ** 12), []), \n",
    "]\n",
    "\n",
    "try:\n",
    "    for epoch in count():\n",
    "        print(f'{epoch = }', end=', ')\n",
    "        for trainer, losses in trainers:\n",
    "            nitf, vowel_embs, loss = next(trainer)\n",
    "            losses.append(loss)\n",
    "            print(loss.item(), end=', ')\n",
    "        print()\n",
    "except KeyboardInterrupt:\n",
    "    pass"
   ]
  },
  {
   "cell_type": "code",
   "execution_count": null,
   "metadata": {},
   "outputs": [],
   "source": [
    "for trainer, losses in trainers:\n",
    "    plt.plot(losses)\n",
    "plt.show()"
   ]
  },
  {
   "cell_type": "code",
   "execution_count": null,
   "metadata": {},
   "outputs": [],
   "source": [
    "v = vowel_embs.detach()\n",
    "vm = v.mean(dim=0)\n",
    "vs = v.std(dim=0)"
   ]
  },
  {
   "cell_type": "code",
   "execution_count": null,
   "metadata": {},
   "outputs": [],
   "source": [
    "plt.hist(amps)\n",
    "plt.show()"
   ]
  },
  {
   "cell_type": "code",
   "execution_count": null,
   "metadata": {},
   "outputs": [],
   "source": [
    "plt.hist(f0s)\n",
    "plt.show()"
   ]
  },
  {
   "cell_type": "code",
   "execution_count": null,
   "metadata": {},
   "outputs": [],
   "source": [
    "import random"
   ]
  },
  {
   "cell_type": "code",
   "execution_count": null,
   "metadata": {},
   "outputs": [],
   "source": [
    "with torch.no_grad():\n",
    "    nitf.eval()\n",
    "\n",
    "    for _ in range(8):\n",
    "        x, y, page_i = dataset[random.randint(0, len(dataset))]\n",
    "        x_vowel = torch.concat((\n",
    "            x, vowel_embs[page_i, :], \n",
    "        ), dim=0)\n",
    "        mag = nitf.forward(x_vowel)\n",
    "        # print(mag.item())\n",
    "        # print(  y.item())\n",
    "        # print()\n",
    "        print(x_vowel)"
   ]
  },
  {
   "cell_type": "code",
   "execution_count": null,
   "metadata": {},
   "outputs": [],
   "source": [
    "with torch.no_grad():\n",
    "    nitf.eval()\n",
    "\n",
    "    hS = HarmonicSynth(\n",
    "        N_HARMONICS, SR, PAGE_LEN, DTYPE, True, True, \n",
    "    )\n",
    "    buffer = []\n",
    "\n",
    "    n_pages = 2 * SR // PAGE_LEN\n",
    "    for v, f0, amp in zip(\n",
    "        np.linspace(vm - 2 * vs, vm + 2 * vs, n_pages), \n",
    "        np.linspace(220, 880, n_pages), \n",
    "        np.linspace(.01, .04, n_pages), \n",
    "    ):\n",
    "        harmonics = []\n",
    "        for partial_i in range(N_HARMONICS):\n",
    "            freq = f0 * (partial_i + 1)\n",
    "            x = dataset.transformX(torch.tensor([\n",
    "                freq, f0, amp, \n",
    "            ]).unsqueeze(0))\n",
    "            x_vowel = torch.concat((\n",
    "                x[0, :], torch.tensor(v), \n",
    "            ))\n",
    "            # print(x_vowel)\n",
    "            mag = nitf.forward(x_vowel.float()).item()\n",
    "            mag = max(0, mag)\n",
    "            harmonics.append(Harmonic(freq, mag))\n",
    "        hS.eat(harmonics)\n",
    "        buffer.append(hS.mix())\n",
    "\n",
    "    audio = np.concatenate(buffer)"
   ]
  },
  {
   "cell_type": "code",
   "execution_count": null,
   "metadata": {},
   "outputs": [],
   "source": [
    "play(audio)"
   ]
  }
 ],
 "metadata": {
  "kernelspec": {
   "display_name": "base",
   "language": "python",
   "name": "python3"
  },
  "language_info": {
   "codemirror_mode": {
    "name": "ipython",
    "version": 3
   },
   "file_extension": ".py",
   "mimetype": "text/x-python",
   "name": "python",
   "nbconvert_exporter": "python",
   "pygments_lexer": "ipython3",
   "version": "3.8.8"
  },
  "orig_nbformat": 4
 },
 "nbformat": 4,
 "nbformat_minor": 2
}
